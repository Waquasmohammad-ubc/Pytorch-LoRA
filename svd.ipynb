{
 "cells": [
  {
   "cell_type": "markdown",
   "metadata": {},
   "source": [
    "# Singular Value Decomposition\n"
   ]
  },
  {
   "cell_type": "code",
   "execution_count": 1,
   "metadata": {},
   "outputs": [],
   "source": [
    "import numpy as np\n",
    "import torch"
   ]
  },
  {
   "cell_type": "markdown",
   "metadata": {},
   "source": [
    "Generate a rank deficient matrix W"
   ]
  },
  {
   "cell_type": "code",
   "execution_count": 2,
   "metadata": {},
   "outputs": [],
   "source": [
    "_ = torch.manual_seed(0)"
   ]
  },
  {
   "cell_type": "code",
   "execution_count": 6,
   "metadata": {},
   "outputs": [
    {
     "name": "stdout",
     "output_type": "stream",
     "text": [
      "tensor([[-2.2731e+00, -9.8890e-01,  2.1096e-01,  4.6254e-01, -1.1131e+00,\n",
      "          2.2086e+00, -7.5786e-01, -1.9270e+00,  2.0473e+00, -4.6468e-01],\n",
      "        [-2.3188e+00, -9.9429e-01,  2.2899e-01,  5.4157e-01, -1.0650e+00,\n",
      "          2.2059e+00, -7.1995e-01, -1.9132e+00,  2.0550e+00, -4.8247e-01],\n",
      "        [-5.7323e-01, -3.9367e-01, -8.3954e-02, -5.7689e-01, -9.8289e-01,\n",
      "          1.0255e+00, -7.1992e-01, -1.0090e+00,  8.4893e-01, -3.3155e-02],\n",
      "        [ 1.2926e+00,  2.9514e-01, -3.7397e-01, -1.5474e+00, -6.6738e-01,\n",
      "         -3.8834e-01, -5.4834e-01,  1.2722e-01, -5.4817e-01,  4.1986e-01],\n",
      "        [ 7.3602e-01,  3.9447e-01,  2.2863e-03,  2.0720e-01,  7.2185e-01,\n",
      "         -9.5627e-01,  5.1757e-01,  8.9317e-01, -8.3412e-01,  1.0721e-01],\n",
      "        [-2.5433e+00, -5.0291e-01,  8.0973e-01,  3.4185e+00,  1.6916e+00,\n",
      "          5.1151e-01,  1.3639e+00,  3.1661e-02,  8.9921e-01, -8.7139e-01],\n",
      "        [ 2.4308e-01,  7.1187e-02, -5.5418e-02, -2.1561e-01, -4.9176e-02,\n",
      "         -1.2396e-01, -4.5636e-02,  8.0778e-02, -1.3925e-01,  6.9823e-02],\n",
      "        [-2.2290e+00, -9.2884e-01,  2.4573e-01,  6.5007e-01, -8.9262e-01,\n",
      "          2.0330e+00, -5.9334e-01, -1.7415e+00,  1.9133e+00, -4.7948e-01],\n",
      "        [-1.9537e+00, -7.2543e-01,  2.9966e-01,  9.9600e-01, -3.5082e-01,\n",
      "          1.4940e+00, -1.9507e-01, -1.2049e+00,  1.4725e+00, -4.7189e-01],\n",
      "        [ 5.5207e-01,  1.3264e-01, -1.5346e-01, -6.2923e-01, -2.5297e-01,\n",
      "         -1.8725e-01, -2.1004e-01,  7.8221e-02, -2.4931e-01,  1.7548e-01]])\n"
     ]
    }
   ],
   "source": [
    "d, k = 10, 10\n",
    "\n",
    "# this way we can generate rank-deficient matrix\n",
    "W_rank = 2\n",
    "W = torch.randn(d,W_rank) @ torch.randn(W_rank, k)\n",
    "print(W)"
   ]
  },
  {
   "cell_type": "code",
   "execution_count": 7,
   "metadata": {},
   "outputs": [
    {
     "name": "stdout",
     "output_type": "stream",
     "text": [
      "Rank of the Matrix 2\n"
     ]
    }
   ],
   "source": [
    "W_rank = np.linalg.matrix_rank(W)\n",
    "print(f'Rank of the Matrix {W_rank}')"
   ]
  },
  {
   "cell_type": "markdown",
   "metadata": {},
   "source": [
    "Calculate SVD decomposition of the W matrix"
   ]
  },
  {
   "cell_type": "code",
   "execution_count": 17,
   "metadata": {},
   "outputs": [
    {
     "name": "stdout",
     "output_type": "stream",
     "text": [
      "shape B :torch.Size([10, 2]) \n",
      "shape A :torch.Size([2, 10]) \n"
     ]
    }
   ],
   "source": [
    "# Perform SVD on W (W = U x S x V^T)\n",
    "U, S, V = torch.svd(W)\n",
    "\n",
    "# For rank-r factorization, keep only the first r singular values (and corresponding column)\n",
    "U_r = U[:,:W_rank]\n",
    "S_r = torch.diag(S[:W_rank])\n",
    "V_r = V[:,:W_rank].t()\n",
    "\n",
    "# Compute C = U_r *S_r  and R = V_r\n",
    "B = U_r @ S_r\n",
    "A = V_r\n",
    "print(f\"shape B :{B.shape} \")\n",
    "print(f\"shape A :{A.shape} \")\n",
    "\n",
    "\n"
   ]
  },
  {
   "cell_type": "code",
   "execution_count": 18,
   "metadata": {},
   "outputs": [
    {
     "name": "stdout",
     "output_type": "stream",
     "text": [
      "Original y using W tensor([-4.4861, -4.8786, -3.0490,  3.1029,  1.2796, -4.4119,  0.7981, -2.5929,\n",
      "        -4.9737,  0.9974])\n",
      "\n",
      "y' computed using BA:  tensor([-4.4861, -4.8786, -3.0490,  3.1029,  1.2796, -4.4119,  0.7981, -2.5929,\n",
      "        -4.9737,  0.9974])\n"
     ]
    }
   ],
   "source": [
    "bias = torch.randn(d)\n",
    "x = torch.randn(d)\n",
    "\n",
    "\n",
    "y = W @ x + bias\n",
    "\n",
    "y_prime = (B @ A) @ x + bias\n",
    "\n",
    "print(f\"Original y using W\",y)\n",
    "print(\"\")\n",
    "print(\"y' computed using BA: \", y_prime)\n"
   ]
  },
  {
   "cell_type": "code",
   "execution_count": null,
   "metadata": {},
   "outputs": [],
   "source": [
    "print(W.nelement())\n",
    "print(B.nelement()+A.nelement())"
   ]
  }
 ],
 "metadata": {
  "kernelspec": {
   "display_name": "base",
   "language": "python",
   "name": "python3"
  },
  "language_info": {
   "codemirror_mode": {
    "name": "ipython",
    "version": 3
   },
   "file_extension": ".py",
   "mimetype": "text/x-python",
   "name": "python",
   "nbconvert_exporter": "python",
   "pygments_lexer": "ipython3",
   "version": "3.11.4"
  }
 },
 "nbformat": 4,
 "nbformat_minor": 2
}
